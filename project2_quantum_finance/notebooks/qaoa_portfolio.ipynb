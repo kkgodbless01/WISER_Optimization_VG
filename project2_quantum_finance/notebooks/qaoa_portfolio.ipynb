{
 "cells": [
  {
   "attachments": {},
   "cell_type": "markdown",
   "id": "e24fa95b-065e-462a-8aa7-2092c7fe35a8",
   "metadata": {},
   "source": [
    "\n",
    "# Quantum Finance Resources\n",
    "\n",
    "For a comprehensive list and industry context, see  \n",
    "[docs/resources.md](../docs/resources.md)\n"
   ]
  },
  {
   "cell_type": "markdown",
   "id": "5f1a9026-2ca3-4895-b985-7f49fcd2c16e",
   "metadata": {},
   "source": []
  }
 ],
 "metadata": {
  "kernelspec": {
   "display_name": "Python 3 (ipykernel)",
   "language": "python",
   "name": "python3"
  },
  "language_info": {
   "codemirror_mode": {
    "name": "ipython",
    "version": 3
   },
   "file_extension": ".py",
   "mimetype": "text/x-python",
   "name": "python",
   "nbconvert_exporter": "python",
   "pygments_lexer": "ipython3",
   "version": "3.13.6"
  }
 },
 "nbformat": 4,
 "nbformat_minor": 5
}
