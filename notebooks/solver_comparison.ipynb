{
 "cells": [
  {
   "cell_type": "code",
   "execution_count": 2,
   "id": "5bbaa09f-4f7c-43fd-abdc-4c857938892e",
   "metadata": {},
   "outputs": [
    {
     "name": "stdout",
     "output_type": "stream",
     "text": [
      "[info] PROJECT_ROOT = C:\\Users\\Admin\\Documents\\WISER_Optimization_VG\n",
      "[ok] Using known LP: C:\\Users\\Admin\\Documents\\WISER_Optimization_VG\\data\\1\\31bonds\\docplex-bin-avgonly.lp\n",
      "[run] Solving LP: data\\1\\31bonds\\docplex-bin-avgonly.lp\n",
      "— Results —\n",
      "Timestamp: 2025-08-11 03:02:44\n",
      "LP file: data\\1\\31bonds\\docplex-bin-avgonly.lp\n",
      "Bonds selected: 18\n",
      "Objective: 40.27711\n",
      "Runtime (s): 43.581\n"
     ]
    }
   ],
   "source": [
    "## --- Smart fix: detect true PROJECT_ROOT and solve LP (python-mip) ---\n",
    "from pathlib import Path\n",
    "from datetime import datetime\n",
    "from time import perf_counter\n",
    "import numpy as np\n",
    "\n",
    "# 1) Detect if you're inside 'notebooks/' and step up\n",
    "here = Path.cwd()\n",
    "PROJECT_ROOT = here.parent if here.name == \"notebooks\" else here\n",
    "print(f\"[info] PROJECT_ROOT = {PROJECT_ROOT}\")\n",
    "\n",
    "# 2) Search for LP file intelligently\n",
    "def find_lp() -> Path:\n",
    "    results_lp = PROJECT_ROOT / \"results\" / \"baseline.lp\"\n",
    "    known_lp = PROJECT_ROOT / \"data\" / \"1\" / \"31bonds\" / \"docplex-bin-avgonly.lp\"\n",
    "    if results_lp.exists():\n",
    "        print(f\"[ok] Using LP: {results_lp}\")\n",
    "        return results_lp\n",
    "    if known_lp.exists():\n",
    "        print(f\"[ok] Using known LP: {known_lp}\")\n",
    "        return known_lp\n",
    "    matches = list(PROJECT_ROOT.rglob(\"*.lp\"))\n",
    "    if matches:\n",
    "        preferred = [p for p in matches if any(part in (\"data\", \"results\") for part in p.parts)]\n",
    "        chosen = preferred[0] if preferred else matches[0]\n",
    "        print(\"[warn] No default LP found. Discovered these instead:\")\n",
    "        for i, p in enumerate(matches[:10], 1):\n",
    "            print(f\"  {i}. {p}\")\n",
    "        print(f\"[use] Selected: {chosen}\")\n",
    "        return chosen\n",
    "    raise FileNotFoundError(\n",
    "        \"No .lp file found anywhere under project.\\n\"\n",
    "        \"→ Drop one into /data/ or /results/, or export via model.write(...).\"\n",
    "    )\n",
    "\n",
    "chosen_lp = find_lp()\n",
    "\n",
    "# 🔍 LP file preview — safe and portable\n",
    "\n",
    "lp_full_path = chosen_lp.resolve()\n",
    "\n",
    "if lp_full_path.exists():\n",
    "    with open(lp_full_path, \"r\") as f:\n",
    "        lp_contents = f.read()\n",
    "    print(\"✅ LP file loaded successfully\")\n",
    "    print(f\"[file] {lp_full_path}\")\n",
    "    print(lp_contents[:500])  # Optional preview\n",
    "else:\n",
    "    print(f\"❌ LP file not found at: {lp_full_path}\")\n",
    "\n",
    "# 3) Build relative path\n",
    "try:\n",
    "    lp_rel = str(chosen_lp.resolve().relative_to(PROJECT_ROOT.resolve()))\n",
    "except ValueError:\n",
    "    lp_rel = str(chosen_lp.name)\n",
    "    print(f\"[warn] LP path not relative to project root. Using name: {lp_rel}\")\n",
    "\n",
    "# 4) Define and run solver (python-mip)\n",
    "def solve_mip_tuned(lp_rel, max_seconds=20.0, mip_gap=0.0):\n",
    "    from mip import Model, OptimizationStatus, BINARY\n",
    "    lp_path = (PROJECT_ROOT / lp_rel).resolve()\n",
    "    m = Model()\n",
    "    m.verbose = 1\n",
    "    try: m.max_seconds = max_seconds\n",
    "    except: pass\n",
    "    try: m.max_mip_gap = mip_gap\n",
    "    except: pass\n",
    "    m.read(str(lp_path))\n",
    "    t0 = perf_counter()\n",
    "    status = m.optimize()\n",
    "    dt = perf_counter() - t0\n",
    "    x = [int(round(v.x)) for v in m.vars]\n",
    "    fx = m.objective_value if status.name in (\"OPTIMAL\", \"FEASIBLE\") else None\n",
    "    return x, fx, dt\n",
    "\n",
    "# 5) Run solver and summarize\n",
    "print(f\"[run] Solving LP: {lp_rel}\")\n",
    "x2, fx2, dt2 = solve_mip_tuned(lp_rel)\n",
    "\n",
    "summary = {\n",
    "    \"Timestamp\": datetime.now().strftime(\"%Y-%m-%d %H:%M:%S\"),\n",
    "    \"LP file\": lp_rel,\n",
    "    \"Bonds selected\": int(np.sum(x2)),\n",
    "    \"Objective\": round(fx2, 5) if fx2 else None,\n",
    "    \"Runtime (s)\": round(dt2, 3)\n",
    "}\n",
    "\n",
    "print(\"— Results —\")\n",
    "for k, v in summary.items():\n",
    "    print(f\"{k}: {v}\")\n"
   ]
  },
  {
   "cell_type": "code",
   "execution_count": 1,
   "id": "cda131b7-a273-4329-9c48-0780d41f846b",
   "metadata": {},
   "outputs": [],
   "source": [
    "import numpy as np\n"
   ]
  },
  {
   "cell_type": "code",
   "execution_count": 2,
   "id": "e2a4b581-b2ac-47a8-9e1b-f6dad90debf3",
   "metadata": {},
   "outputs": [
    {
     "name": "stdout",
     "output_type": "stream",
     "text": [
      "✅ src added to path: True\n"
     ]
    }
   ],
   "source": [
    "import sys\n",
    "from pathlib import Path\n",
    "\n",
    "# Detect project root (whether you're in notebooks/ or root)\n",
    "PROJECT_ROOT = Path.cwd().parent if Path.cwd().name == \"notebooks\" else Path.cwd()\n",
    "SRC_PATH = PROJECT_ROOT / \"src\"\n",
    "\n",
    "# Add src/ to sys.path if not already there\n",
    "if str(SRC_PATH) not in sys.path:\n",
    "    sys.path.append(str(SRC_PATH))\n",
    "\n",
    "print(\"✅ src added to path:\", SRC_PATH.exists())\n"
   ]
  },
  {
   "cell_type": "code",
   "execution_count": 3,
   "id": "3caa2ba9-08bb-4c53-bf68-b7d302d3fa54",
   "metadata": {},
   "outputs": [
    {
     "name": "stdout",
     "output_type": "stream",
     "text": [
      "▶ src.experiment imported and running\n",
      "✅ Imported successfully\n"
     ]
    }
   ],
   "source": [
    "import sys\n",
    "sys.path.append(\"..\")  # Go up one level to access src folder\n",
    "\n",
    "from src.experiment import solve_bond_selection\n",
    "print(\"✅ Imported successfully\")\n"
   ]
  },
  {
   "cell_type": "code",
   "execution_count": 4,
   "id": "fc08bf0a-d2a3-4054-83d1-b68877416664",
   "metadata": {},
   "outputs": [
    {
     "name": "stdout",
     "output_type": "stream",
     "text": [
      "Working in: C:\\Users\\Admin\\Documents\\WISER_Optimization_VG\\notebooks\n"
     ]
    }
   ],
   "source": [
    "import os, sys, pathlib\n",
    "\n",
    "# 1) Set working directory to your repo root (where README and src/ live)\n",
    "repo_root = pathlib.Path.cwd()\n",
    "print(\"Working in:\", repo_root)\n",
    "\n",
    "# 2) Ensure Python can import from src/\n",
    "if str(repo_root) not in sys.path:\n",
    "    sys.path.append(str(repo_root))\n"
   ]
  },
  {
   "cell_type": "code",
   "execution_count": 5,
   "id": "df7ae3f2-935c-43d2-b15f-e8c9e992a692",
   "metadata": {},
   "outputs": [
    {
     "name": "stdout",
     "output_type": "stream",
     "text": [
      "C:\\Users\\Admin\\Documents\\WISER_Optimization_VG\n"
     ]
    },
    {
     "name": "stderr",
     "output_type": "stream",
     "text": [
      "C:\\Users\\Admin\\Documents\\WISER_Optimization_VG\\.venv310\\lib\\site-packages\\IPython\\core\\magics\\osm.py:417: UserWarning: This is now an optional IPython functionality, setting dhist requires you to install the `pickleshare` library.\n",
      "  self.shell.db['dhist'] = compress_dhist(dhist)[-100:]\n"
     ]
    }
   ],
   "source": [
    "%cd C:\\Users\\Admin\\Documents\\WISER_Optimization_VG\n"
   ]
  },
  {
   "cell_type": "code",
   "execution_count": 6,
   "id": "61f0f7e6-c728-4985-b5c3-8539e3a4ed95",
   "metadata": {},
   "outputs": [
    {
     "name": "stdout",
     "output_type": "stream",
     "text": [
      "✅ src added to path: True\n"
     ]
    }
   ],
   "source": [
    "import sys\n",
    "from pathlib import Path\n",
    "\n",
    "# Detect project root (whether you're in notebooks/ or root)\n",
    "PROJECT_ROOT = Path.cwd().parent if Path.cwd().name == \"notebooks\" else Path.cwd()\n",
    "SRC_PATH = PROJECT_ROOT / \"src\"\n",
    "\n",
    "# Add src/ to sys.path if not already there\n",
    "if str(SRC_PATH) not in sys.path:\n",
    "    sys.path.append(str(SRC_PATH))\n",
    "\n",
    "print(\"✅ src added to path:\", SRC_PATH.exists())\n"
   ]
  },
  {
   "cell_type": "code",
   "execution_count": 7,
   "id": "d90b5f94-59a0-4fe9-a8e1-37b8792e29b2",
   "metadata": {},
   "outputs": [],
   "source": [
    "sys.path.append(str(PROJECT_ROOT))\n",
    "from src.experiment import solve_bond_selection\n",
    "\n",
    "\n"
   ]
  },
  {
   "cell_type": "code",
   "execution_count": 8,
   "id": "bc1465f9-b278-43d1-a53b-003760b8aa71",
   "metadata": {},
   "outputs": [
    {
     "name": "stdout",
     "output_type": "stream",
     "text": [
      "Working in: C:\\Users\\Admin\\Documents\\WISER_Optimization_VG\n"
     ]
    }
   ],
   "source": [
    "import os, sys, pathlib\n",
    "\n",
    "repo_root = pathlib.Path.cwd()\n",
    "print(\"Working in:\", repo_root)\n",
    "\n",
    "if str(repo_root) not in sys.path:\n",
    "    sys.path.append(str(repo_root))\n"
   ]
  },
  {
   "cell_type": "code",
   "execution_count": 9,
   "id": "c64d784e-d8e0-42af-9c1f-e8b424cceeea",
   "metadata": {},
   "outputs": [
    {
     "name": "stdout",
     "output_type": "stream",
     "text": [
      "Working in: C:\\Users\\Admin\\Documents\\WISER_Optimization_VG\n"
     ]
    }
   ],
   "source": [
    "import os, sys, pathlib\n",
    "\n",
    "repo_root = pathlib.Path.cwd()\n",
    "print(\"Working in:\", repo_root)\n",
    "\n",
    "if str(repo_root) not in sys.path:\n",
    "    sys.path.append(str(repo_root))\n"
   ]
  },
  {
   "cell_type": "code",
   "execution_count": 10,
   "id": "eb8cef78-12fc-4179-af70-62d24e035527",
   "metadata": {},
   "outputs": [
    {
     "name": "stdout",
     "output_type": "stream",
     "text": [
      "Jupyter is running in: C:\\Users\\Admin\\Documents\\WISER_Optimization_VG\n"
     ]
    }
   ],
   "source": [
    "from pathlib import Path\n",
    "import os\n",
    "\n",
    "# Get current folder\n",
    "cwd = Path.cwd()\n",
    "print(\"Jupyter is running in:\", cwd)\n",
    "\n",
    "# Go up one level if you're inside /notebooks\n",
    "if cwd.name == \"notebooks\":\n",
    "    os.chdir(cwd.parent)\n",
    "    print(\"Switched to:\", Path.cwd())\n"
   ]
  },
  {
   "cell_type": "code",
   "execution_count": 11,
   "id": "9cbc38fa-f33d-42fb-8895-8bc390049afe",
   "metadata": {},
   "outputs": [
    {
     "name": "stdout",
     "output_type": "stream",
     "text": [
      "Root added to sys.path: C:\\Users\\Admin\\Documents\\WISER_Optimization_VG\n"
     ]
    }
   ],
   "source": [
    "import sys\n",
    "PROJECT_ROOT = Path.cwd()\n",
    "\n",
    "if str(PROJECT_ROOT) not in sys.path:\n",
    "    sys.path.append(str(PROJECT_ROOT))\n",
    "\n",
    "print(\"Root added to sys.path:\", str(PROJECT_ROOT))\n"
   ]
  },
  {
   "cell_type": "code",
   "execution_count": 12,
   "id": "8e382a79-9d04-4663-811d-348880560636",
   "metadata": {},
   "outputs": [
    {
     "name": "stdout",
     "output_type": "stream",
     "text": [
      "✔️ __init__.py already exists in C:\\Users\\Admin\\Documents\\WISER_Optimization_VG\\src\n",
      "✔️ __init__.py already exists in C:\\Users\\Admin\\Documents\\WISER_Optimization_VG\\src\\sbo\n",
      "✔️ __init__.py already exists in C:\\Users\\Admin\\Documents\\WISER_Optimization_VG\\src\\sbo\\src\n",
      "✔️ __init__.py already exists in C:\\Users\\Admin\\Documents\\WISER_Optimization_VG\\src\\sbo\\src\\optimizer\n"
     ]
    }
   ],
   "source": [
    "def touch_init(path):\n",
    "    path.mkdir(parents=True, exist_ok=True)\n",
    "    init = path / \"__init__.py\"\n",
    "    if not init.exists():\n",
    "        init.touch()\n",
    "        print(\"✅ Created __init__.py in\", path)\n",
    "    else:\n",
    "        print(\"✔️ __init__.py already exists in\", path)\n",
    "\n",
    "# Apply to src/ and any nested package folders\n",
    "for rel in [\"src\", \"src/sbo\", \"src/sbo/src\", \"src/sbo/src/optimizer\"]:\n",
    "    folder = PROJECT_ROOT / rel\n",
    "    if folder.exists():\n",
    "        touch_init(folder)\n"
   ]
  },
  {
   "cell_type": "code",
   "execution_count": 13,
   "id": "2a7bd209-f079-410a-ab75-6bcf672c088f",
   "metadata": {},
   "outputs": [
    {
     "name": "stdout",
     "output_type": "stream",
     "text": [
      "✔️ No changes needed — looks clean.\n"
     ]
    }
   ],
   "source": [
    "exp_path = PROJECT_ROOT / \"src\" / \"experiment.py\"\n",
    "if not exp_path.exists():\n",
    "    raise FileNotFoundError(\"Missing: src/experiment.py\")\n",
    "\n",
    "text = exp_path.read_text(encoding=\"utf-8\")\n",
    "replacements = {\n",
    "    \"from .sbo.src.optimizer.optimization_monitor\": \"from src.sbo.src.optimizer.optimization_monitor\",\n",
    "    \"from .sbo.src.optimizer.optimization_wrapper\": \"from src.sbo.src.optimizer.optimization_wrapper\",\n",
    "}\n",
    "\n",
    "patched = text\n",
    "for old, new in replacements.items():\n",
    "    if old in patched:\n",
    "        patched = patched.replace(old, new)\n",
    "\n",
    "if patched != text:\n",
    "    backup = exp_path.with_suffix(\".py.bak\")\n",
    "    backup.write_text(text, encoding=\"utf-8\")\n",
    "    exp_path.write_text(patched, encoding=\"utf-8\")\n",
    "    print(\"✅ Patched experiment.py (backup saved as experiment.py.bak)\")\n",
    "else:\n",
    "    print(\"✔️ No changes needed — looks clean.\")\n"
   ]
  },
  {
   "cell_type": "code",
   "execution_count": 14,
   "id": "0a01706e-d102-4d9d-8e6e-ae855157cfba",
   "metadata": {},
   "outputs": [
    {
     "name": "stdout",
     "output_type": "stream",
     "text": [
      "✅ Import OK\n"
     ]
    }
   ],
   "source": [
    "from src.experiment import solve_bond_selection\n",
    "print(\"✅ Import OK\")\n"
   ]
  },
  {
   "cell_type": "code",
   "execution_count": 15,
   "id": "fb550020-2694-4f8a-81ef-e1f0df45c3ff",
   "metadata": {},
   "outputs": [],
   "source": [
    "LP_PATH = \"data/1/31bonds/docplex-bin-avgonly.lp\"  # you used this file earlier\n"
   ]
  },
  {
   "cell_type": "code",
   "execution_count": 16,
   "id": "9a897efd-f9fb-4caa-9c82-588c3c7a74e7",
   "metadata": {},
   "outputs": [
    {
     "name": "stdout",
     "output_type": "stream",
     "text": [
      "🔢 Bonds selected: 21\n",
      "📈 Objective value: 40.2771\n",
      "⏱ Runtime (seconds): 40.4\n"
     ]
    }
   ],
   "source": [
    "LP_REL = \"data/1/31bonds/docplex-bin-avgonly.lp\"\n",
    "x, fx, dt = solve_bond_selection(LP_REL)\n",
    "print(\"🔢 Bonds selected:\", int(np.sum(x)))\n",
    "print(\"📈 Objective value:\", round(fx, 4))\n",
    "print(\"⏱ Runtime (seconds):\", round(dt, 2))\n"
   ]
  },
  {
   "cell_type": "code",
   "execution_count": 17,
   "id": "743d2bfb-e69a-4ea1-bf5e-f7d58c4b76f2",
   "metadata": {},
   "outputs": [
    {
     "name": "stdout",
     "output_type": "stream",
     "text": [
      "C:\\Users\\Admin\\Documents\\WISER_Optimization_VG\n"
     ]
    }
   ],
   "source": [
    "import os\n",
    "print(os.getcwd())\n"
   ]
  },
  {
   "cell_type": "code",
   "execution_count": 18,
   "id": "1d1510c8-da03-444d-952d-5ed13674a678",
   "metadata": {},
   "outputs": [
    {
     "name": "stdout",
     "output_type": "stream",
     "text": [
      "✅ Imported successfully\n"
     ]
    }
   ],
   "source": [
    "import sys\n",
    "sys.path.append(\"..\")  # Moves up one level to access src/\n",
    "\n",
    "from src.experiment import solve_bond_selection\n",
    "print(\"✅ Imported successfully\")\n"
   ]
  },
  {
   "cell_type": "code",
   "execution_count": 19,
   "id": "f842b601-f308-48d0-a4c4-c7363dfce111",
   "metadata": {},
   "outputs": [
    {
     "name": "stdout",
     "output_type": "stream",
     "text": [
      "🔢 Bonds selected: 21\n",
      "📈 Objective value: 40.2771\n",
      "⏱ Runtime (seconds): 39.63\n"
     ]
    }
   ],
   "source": [
    "import numpy as np\n",
    "\n",
    "LP_PATH = \"data/1/31bonds/docplex-bin-avgonly.lp\"  # Update if needed\n",
    "\n",
    "x, fx, dt = solve_bond_selection(LP_PATH)\n",
    "\n",
    "print(\"🔢 Bonds selected:\", int(np.sum(x)))\n",
    "print(\"📈 Objective value:\", round(fx, 4))\n",
    "print(\"⏱ Runtime (seconds):\", round(dt, 2))\n"
   ]
  },
  {
   "cell_type": "code",
   "execution_count": 20,
   "id": "d0235625-0f27-41be-a488-526df2a25da1",
   "metadata": {},
   "outputs": [
    {
     "name": "stdout",
     "output_type": "stream",
     "text": [
      "..\\WISER_Optimization_VG\\data\\1\\31bonds\\docplex-bin-avgonly-nocplexvars.lp\n",
      "..\\WISER_Optimization_VG\\data\\1\\31bonds\\docplex-bin-avgonly.lp\n",
      "..\\WISER_Optimization_VG\\data\\1\\31bonds\\docplex-bin-minmaxavg.lp\n",
      "..\\WISER_Optimization_VG\\data\\1\\31bonds\\docplex.lp\n",
      "..\\WISER_Optimization_VG\\data\\1\\full\\docplex-full-reduced-nosemi.lp\n",
      "..\\WISER_Optimization_VG\\data\\1\\full\\docplex-orig.lp\n",
      "..\\WISER_Optimization_VG\\data\\1\\gurobi\\gurobi.lp\n"
     ]
    }
   ],
   "source": [
    "import os\n",
    "\n",
    "for root, dirs, files in os.walk(\"..\"):\n",
    "    for name in files:\n",
    "        if name.endswith(\".lp\"):\n",
    "            print(os.path.join(root, name))\n"
   ]
  },
  {
   "cell_type": "code",
   "execution_count": 21,
   "id": "72109e63-e221-4d41-af00-94be42db8a2c",
   "metadata": {},
   "outputs": [],
   "source": [
    "LP_PATH = \"data/1/31bonds/docplex-bin-avgonly.lp\"\n",
    "\n"
   ]
  },
  {
   "cell_type": "code",
   "execution_count": 22,
   "id": "1331d712-4621-4a1c-86ee-d871461c0ddf",
   "metadata": {},
   "outputs": [
    {
     "name": "stdout",
     "output_type": "stream",
     "text": [
      "🔢 Bonds selected: 21\n",
      "📈 Objective value: 40.2771\n",
      "⏱ Runtime (seconds): 39.81\n"
     ]
    }
   ],
   "source": [
    "x, fx, dt = solve_bond_selection(LP_PATH)\n",
    "\n",
    "print(\"🔢 Bonds selected:\", int(np.sum(x)))\n",
    "print(\"📈 Objective value:\", round(fx, 4))\n",
    "print(\"⏱ Runtime (seconds):\", round(dt, 2))\n"
   ]
  },
  {
   "cell_type": "code",
   "execution_count": 23,
   "id": "2e388ef0-2a1c-40df-886c-47abaad753ac",
   "metadata": {},
   "outputs": [],
   "source": [
    "LP_PATH = \"data/1/31bonds/docplex-bin-avgonly.lp\"\n"
   ]
  },
  {
   "cell_type": "code",
   "execution_count": 24,
   "id": "4aeefd47-5f09-4402-8376-2bc1f5aa1964",
   "metadata": {},
   "outputs": [
    {
     "name": "stdout",
     "output_type": "stream",
     "text": [
      "🔢 Bonds selected: 21\n",
      "📈 Objective value: 40.2771\n",
      "⏱ Runtime (seconds): 39.58\n"
     ]
    }
   ],
   "source": [
    "x, fx, dt = solve_bond_selection(LP_PATH)\n",
    "\n",
    "print(\"🔢 Bonds selected:\", int(np.sum(x)))\n",
    "print(\"📈 Objective value:\", round(fx, 4))\n",
    "print(\"⏱ Runtime (seconds):\", round(dt, 2))\n"
   ]
  },
  {
   "cell_type": "code",
   "execution_count": 2,
   "id": "e7857281-5dd4-417a-984c-5900641fe06d",
   "metadata": {},
   "outputs": [
    {
     "name": "stdout",
     "output_type": "stream",
     "text": [
      "[info] PROJECT_ROOT = C:\\Users\\Admin\\Documents\\WISER_Optimization_VG\n",
      "[ok] Using known LP: C:\\Users\\Admin\\Documents\\WISER_Optimization_VG\\data\\1\\31bonds\\docplex-bin-avgonly.lp\n",
      "[run] Solving relative LP: data\\1\\31bonds\\docplex-bin-avgonly.lp\n",
      "— Results —\n",
      "  Bonds selected: 21\n",
      "  Objective:      40.27711275896016\n",
      "  Runtime (s):    57.579\n"
     ]
    },
    {
     "data": {
      "text/html": [
       "<div>\n",
       "<style scoped>\n",
       "    .dataframe tbody tr th:only-of-type {\n",
       "        vertical-align: middle;\n",
       "    }\n",
       "\n",
       "    .dataframe tbody tr th {\n",
       "        vertical-align: top;\n",
       "    }\n",
       "\n",
       "    .dataframe thead th {\n",
       "        text-align: right;\n",
       "    }\n",
       "</style>\n",
       "<table border=\"1\" class=\"dataframe\">\n",
       "  <thead>\n",
       "    <tr style=\"text-align: right;\">\n",
       "      <th></th>\n",
       "      <th>LP file</th>\n",
       "      <th>Bonds selected</th>\n",
       "      <th>Objective value</th>\n",
       "      <th>Runtime (s)</th>\n",
       "      <th>Solver</th>\n",
       "      <th>Strategy</th>\n",
       "    </tr>\n",
       "  </thead>\n",
       "  <tbody>\n",
       "    <tr>\n",
       "      <th>0</th>\n",
       "      <td>data\\1\\31bonds\\docplex-bin-avgonly.lp</td>\n",
       "      <td>21</td>\n",
       "      <td>40.277113</td>\n",
       "      <td>57.579</td>\n",
       "      <td>python-mip</td>\n",
       "      <td>tuned (20s, gap=0.0)</td>\n",
       "    </tr>\n",
       "  </tbody>\n",
       "</table>\n",
       "</div>"
      ],
      "text/plain": [
       "                                 LP file  Bonds selected  Objective value  \\\n",
       "0  data\\1\\31bonds\\docplex-bin-avgonly.lp              21        40.277113   \n",
       "\n",
       "   Runtime (s)      Solver              Strategy  \n",
       "0       57.579  python-mip  tuned (20s, gap=0.0)  "
      ]
     },
     "execution_count": 2,
     "metadata": {},
     "output_type": "execute_result"
    }
   ],
   "source": [
    "# Cell 25 — self-contained solve + results (fixes NameError)\n",
    "\n",
    "# Imports\n",
    "from pathlib import Path\n",
    "from time import perf_counter\n",
    "import numpy as np\n",
    "import pandas as pd\n",
    "\n",
    "# 1) Detect project root (works if running from repo root or notebooks/)\n",
    "PROJECT_ROOT = Path.cwd()\n",
    "if PROJECT_ROOT.name == \"notebooks\":\n",
    "    PROJECT_ROOT = PROJECT_ROOT.parent\n",
    "elif not (PROJECT_ROOT / \"data\").exists() and (PROJECT_ROOT.parent / \"data\").exists():\n",
    "    PROJECT_ROOT = PROJECT_ROOT.parent\n",
    "print(f\"[info] PROJECT_ROOT = {PROJECT_ROOT}\")\n",
    "\n",
    "# 2) Locate LP file\n",
    "results_lp = PROJECT_ROOT / \"results\" / \"baseline.lp\"\n",
    "known_lp = PROJECT_ROOT / \"data\" / \"1\" / \"31bonds\" / \"docplex-bin-avgonly.lp\"\n",
    "\n",
    "def choose_lp() -> Path:\n",
    "    if results_lp.exists():\n",
    "        print(f\"[ok] Using: {results_lp}\")\n",
    "        return results_lp\n",
    "    if known_lp.exists():\n",
    "        print(f\"[ok] Using known LP: {known_lp}\")\n",
    "        return known_lp\n",
    "    matches = list(PROJECT_ROOT.rglob(\"*.lp\"))\n",
    "    if matches:\n",
    "        preferred = [p for p in matches if any(part in (\"data\", \"results\") for part in p.parts)]\n",
    "        chosen = preferred[0] if preferred else matches[0]\n",
    "        print(\"[warn] Falling back to discovered LP:\")\n",
    "        for i, p in enumerate(matches[:10], 1):\n",
    "            print(f\"  {i}. {p}\")\n",
    "        print(f\"[use] Selected: {chosen}\")\n",
    "        return chosen\n",
    "    raise FileNotFoundError(\"No .lp file found under the project. Place one in data/ or results/ and re-run.\")\n",
    "\n",
    "chosen = choose_lp()\n",
    "\n",
    "# 3) Relative path (for reproducibility)\n",
    "try:\n",
    "    lp_rel = str(chosen.resolve().relative_to(PROJECT_ROOT.resolve()))\n",
    "except ValueError:\n",
    "    lp_rel = chosen.name\n",
    "    print(f\"[warn] LP is outside PROJECT_ROOT. Using name only: {lp_rel}\")\n",
    "print(f\"[run] Solving relative LP: {lp_rel}\")\n",
    "\n",
    "# 4) Define the solver function (python-mip)\n",
    "def solve_mip_tuned(lp_rel_path: str, max_seconds: float = 20.0, mip_gap: float = 0.0):\n",
    "    from mip import Model, OptimizationStatus, BINARY\n",
    "    lp_path = (PROJECT_ROOT / lp_rel_path).resolve()\n",
    "    if not lp_path.exists():\n",
    "        raise FileNotFoundError(f\"LP file not found at: {lp_path}\")\n",
    "\n",
    "    m = Model()\n",
    "    m.verbose = 1\n",
    "    # Set limits if supported\n",
    "    try: m.max_seconds = float(max_seconds)\n",
    "    except Exception: pass\n",
    "    try: m.max_mip_gap = float(mip_gap)\n",
    "    except Exception: pass\n",
    "\n",
    "    m.read(str(lp_path))\n",
    "    t0 = perf_counter()\n",
    "    status = m.optimize()\n",
    "    dt = perf_counter() - t0\n",
    "\n",
    "    fx = m.objective_value if status in (OptimizationStatus.OPTIMAL, OptimizationStatus.FEASIBLE) else None\n",
    "    # Prefer binary vars if present; else include all\n",
    "    try:\n",
    "        xs_bin = [int(round(v.x)) for v in m.vars if getattr(v, \"var_type\", None) == BINARY]\n",
    "        x = xs_bin if xs_bin else [int(round(v.x)) for v in m.vars]\n",
    "    except Exception:\n",
    "        x = [int(round(v.x)) for v in m.vars]\n",
    "\n",
    "    return x, fx, dt\n",
    "\n",
    "# 5) Run solve\n",
    "x2, fx2, dt2 = solve_mip_tuned(lp_rel, max_seconds=20, mip_gap=0.0)\n",
    "\n",
    "# 6) Summarize and expose variables for later cells\n",
    "def safe_sum(v):\n",
    "    try:\n",
    "        return int(np.sum(v))\n",
    "    except Exception:\n",
    "        try:\n",
    "            return int(sum(v))\n",
    "        except Exception:\n",
    "            return None\n",
    "\n",
    "tuned_results = {\n",
    "    \"LP file\": lp_rel,\n",
    "    \"Bonds selected\": safe_sum(x2),\n",
    "    \"Objective value\": float(fx2) if fx2 is not None else None,\n",
    "    \"Runtime (s)\": round(float(dt2), 3) if dt2 is not None else None,\n",
    "    \"Solver\": \"python-mip\",\n",
    "    \"Strategy\": \"tuned (20s, gap=0.0)\",\n",
    "}\n",
    "\n",
    "print(\"— Results —\")\n",
    "print(f\"  Bonds selected: {tuned_results['Bonds selected']}\")\n",
    "print(f\"  Objective:      {tuned_results['Objective value']}\")\n",
    "print(f\"  Runtime (s):    {tuned_results['Runtime (s)']}\")\n",
    "\n",
    "# 7) Optional: create a DataFrame so later cells can display it\n",
    "results_df = pd.DataFrame([tuned_results])\n",
    "results_df\n"
   ]
  },
  {
   "cell_type": "code",
   "execution_count": null,
   "id": "674b5df5-781e-4e01-bbac-33af580d5053",
   "metadata": {},
   "outputs": [],
   "source": [
    "LP_REL = os.path.join(PROJECT_ROOT, \"results\", \"baseline.lp\")\n"
   ]
  },
  {
   "cell_type": "code",
   "execution_count": null,
   "id": "042a0931-ff1e-440e-8d7a-9d1fc91c1f0f",
   "metadata": {},
   "outputs": [],
   "source": [
    "os.path.exists(LP_REL)\n"
   ]
  },
  {
   "cell_type": "code",
   "execution_count": null,
   "id": "51cb34c9-62c8-4c87-9395-e77ab8d28925",
   "metadata": {},
   "outputs": [],
   "source": [
    "# Step 1: Set LP file path (relative to project root)\n",
    "LP_REL = \"data/1/31bonds/docplex-bin-avgonly.lp\"\n",
    "\n",
    "# Sanity check the path\n",
    "print(\"LP exists?\", (PROJECT_ROOT / LP_REL).exists(), \"->\", (PROJECT_ROOT / LP_REL))\n",
    "\n",
    "# Step 2: Run the solver (20s time limit)\n",
    "x2, fx2, dt2 = solve_mip_tuned(LP_REL, max_seconds=20, mip_gap=0.0)\n",
    "\n",
    "# Step 3: Print results\n",
    "print(\"🔢 Bonds selected:\", int(np.sum(x2)))\n",
    "print(\"📈 Objective value:\", round(fx2, 4))\n",
    "print(\"⏱ Runtime (seconds):\", round(dt2, 2))\n",
    "\n"
   ]
  },
  {
   "cell_type": "code",
   "execution_count": null,
   "id": "7464ca7a-7e6b-4b87-a806-f0333415ed7e",
   "metadata": {},
   "outputs": [],
   "source": [
    "# Imports\n",
    "import os, sys, time\n",
    "from pathlib import Path\n",
    "import numpy as np\n",
    "\n",
    "# If python-mip isn't imported yet\n",
    "from mip import Model\n",
    "\n",
    "# Detect project root (works whether your notebook is in repo root or in notebooks/)\n",
    "PROJECT_ROOT = Path.cwd()\n",
    "if PROJECT_ROOT.name == \"notebooks\":\n",
    "    PROJECT_ROOT = PROJECT_ROOT.parent\n",
    "elif not (PROJECT_ROOT / \"data\").exists() and (PROJECT_ROOT.parent / \"data\").exists():\n",
    "    PROJECT_ROOT = PROJECT_ROOT.parent\n",
    "\n",
    "print(\"PROJECT_ROOT ->\", PROJECT_ROOT)\n",
    "\n",
    "def solve_mip_tuned(lp_rel_path, *, max_seconds=20, mip_gap=0.0, threads=0):\n",
    "    \"\"\"\n",
    "    lp_rel_path: path relative to project root, e.g., 'data/1/31bonds/docplex-bin-avgonly.lp'\n",
    "    max_seconds: time limit for the MIP solve\n",
    "    mip_gap: allowed relative optimality gap (not all solvers honor this via API)\n",
    "    threads: number of threads (0 lets solver decide)\n",
    "    \"\"\"\n",
    "    lp_path = (PROJECT_ROOT / lp_rel_path).resolve()\n",
    "    if not lp_path.exists():\n",
    "        raise FileNotFoundError(f\"LP file not found at: {lp_path}\")\n",
    "\n",
    "    start = time.perf_counter()\n",
    "    m = Model()\n",
    "    m.read(str(lp_path))\n",
    "\n",
    "    # Optional knobs (wrapped in try/except to avoid solver-specific attribute issues)\n",
    "    try:\n",
    "        if threads:\n",
    "            m.threads = threads\n",
    "    except Exception:\n",
    "        pass\n",
    "\n",
    "    # Use the built-in time limit on optimize\n",
    "    m.optimize(max_seconds=max_seconds)\n",
    "\n",
    "    # Collect solution\n",
    "    x = np.array([v.x for v in m.vars])\n",
    "    fx = float(m.objective_value)\n",
    "    dt = time.perf_counter() - start\n",
    "    return x, fx, dt\n",
    "\n",
    "print(\"✅ solve_mip_tuned is defined\")\n"
   ]
  },
  {
   "cell_type": "code",
   "execution_count": null,
   "id": "d29a8177-4962-4efd-a21c-83547c39080e",
   "metadata": {},
   "outputs": [],
   "source": [
    "LP_REL = \"data/1/31bonds/docplex-bin-avgonly.lp\"\n"
   ]
  },
  {
   "cell_type": "code",
   "execution_count": null,
   "id": "7b804388-5295-4ef8-bd04-191284538d31",
   "metadata": {},
   "outputs": [],
   "source": [
    "x2, fx2, dt2 = solve_mip_tuned(LP_REL, max_seconds=20, mip_gap=0.0)\n"
   ]
  },
  {
   "cell_type": "code",
   "execution_count": null,
   "id": "e24c1eef-a4ab-4cc0-a0c4-f27e81d36871",
   "metadata": {},
   "outputs": [],
   "source": [
    "print(\"🔢 Bonds selected:\", int(np.sum(x2)))\n",
    "print(\"📈 Objective value:\", round(fx2, 4))\n",
    "print(\"⏱ Runtime (seconds):\", round(dt2, 2))\n"
   ]
  },
  {
   "cell_type": "code",
   "execution_count": null,
   "id": "8612dd91-69a4-4c07-a0b4-5ac6a59a41ee",
   "metadata": {},
   "outputs": [],
   "source": [
    "{\n",
    "    \"LP file\": LP_REL,\n",
    "    \"Bonds selected\": ...,\n",
    "    \"Objective value\": ...,\n",
    "    \"Runtime (s)\": ...,\n",
    "    \"Solver\": \"python-mip\",\n",
    "    \"Strategy\": \"tuned (20s limit)\"\n",
    "}\n"
   ]
  },
  {
   "cell_type": "code",
   "execution_count": null,
   "id": "9427a673-c5ec-43d4-946c-9e2b2458c498",
   "metadata": {},
   "outputs": [],
   "source": [
    "tuned_results = {\n",
    "    \"LP file\": LP_REL,\n",
    "    \"Bonds selected\": int(np.sum(x2)),\n",
    "    \"Objective value\": round(fx2, 4),\n",
    "    \"Runtime (s)\": round(dt2, 2),\n",
    "    \"Solver\": \"python-mip\",\n",
    "    \"Strategy\": \"tuned (20s limit)\"\n",
    "}\n"
   ]
  },
  {
   "cell_type": "code",
   "execution_count": 2,
   "id": "3cb7a7f3-0053-417e-9b56-de358726fd67",
   "metadata": {},
   "outputs": [
    {
     "data": {
      "text/html": [
       "<div>\n",
       "<style scoped>\n",
       "    .dataframe tbody tr th:only-of-type {\n",
       "        vertical-align: middle;\n",
       "    }\n",
       "\n",
       "    .dataframe tbody tr th {\n",
       "        vertical-align: top;\n",
       "    }\n",
       "\n",
       "    .dataframe thead th {\n",
       "        text-align: right;\n",
       "    }\n",
       "</style>\n",
       "<table border=\"1\" class=\"dataframe\">\n",
       "  <thead>\n",
       "    <tr style=\"text-align: right;\">\n",
       "      <th></th>\n",
       "      <th>LP file</th>\n",
       "      <th>Bonds selected</th>\n",
       "      <th>Objective value</th>\n",
       "      <th>Runtime (s)</th>\n",
       "      <th>Solver</th>\n",
       "      <th>Strategy</th>\n",
       "    </tr>\n",
       "  </thead>\n",
       "  <tbody>\n",
       "    <tr>\n",
       "      <th>0</th>\n",
       "      <td>data/1/31bonds/docplex-bin-avgonly.lp</td>\n",
       "      <td>2</td>\n",
       "      <td>123.456</td>\n",
       "      <td>19.87</td>\n",
       "      <td>python-mip</td>\n",
       "      <td>tuned (20s limit)</td>\n",
       "    </tr>\n",
       "  </tbody>\n",
       "</table>\n",
       "</div>"
      ],
      "text/plain": [
       "                                 LP file  Bonds selected  Objective value  \\\n",
       "0  data/1/31bonds/docplex-bin-avgonly.lp               2          123.456   \n",
       "\n",
       "   Runtime (s)      Solver           Strategy  \n",
       "0        19.87  python-mip  tuned (20s limit)  "
      ]
     },
     "execution_count": 2,
     "metadata": {},
     "output_type": "execute_result"
    }
   ],
   "source": [
    "# Import libraries\n",
    "import numpy as np\n",
    "import pandas as pd\n",
    "\n",
    "# Define input values (make sure these match your earlier code or data)\n",
    "x2 = np.array([1, 0, 1])            # Example bond selections\n",
    "fx2 = 123.456                       # Example objective value\n",
    "dt2 = 19.87                         # Example runtime in seconds\n",
    "LP_REL = \"data/1/31bonds/docplex-bin-avgonly.lp\"  # Path to your LP file\n",
    "\n",
    "# Define results dictionary\n",
    "tuned_results = {\n",
    "    \"LP file\": LP_REL,\n",
    "    \"Bonds selected\": int(np.sum(x2)),\n",
    "    \"Objective value\": round(fx2, 4),\n",
    "    \"Runtime (s)\": round(dt2, 2),\n",
    "    \"Solver\": \"python-mip\",\n",
    "    \"Strategy\": \"tuned (20s limit)\"\n",
    "}\n",
    "\n",
    "# Convert to DataFrame\n",
    "results_df = pd.DataFrame([tuned_results])\n",
    "\n",
    "# Display the DataFrame\n",
    "results_df\n",
    "\n"
   ]
  },
  {
   "cell_type": "code",
   "execution_count": null,
   "id": "e387c51a-8c66-4d52-b648-36fd54e856aa",
   "metadata": {},
   "outputs": [],
   "source": [
    "import numpy as np\n",
    "import pandas as pd\n",
    "\n",
    "LP_REL = \"data/1/31bonds/docplex-bin-avgonly.lp\"\n"
   ]
  },
  {
   "cell_type": "code",
   "execution_count": null,
   "id": "b70b85b1-6340-46e8-a8c3-925fce7790de",
   "metadata": {},
   "outputs": [],
   "source": [
    "baseline_results = {\n",
    "    \"LP file\": LP_PATH,\n",
    "    \"Bonds selected\": int(np.sum(x)),\n",
    "    \"Objective value\": round(fx, 4),\n",
    "    \"Runtime (s)\": round(dt, 2),\n",
    "    \"Solver\": \"python-mip\",\n",
    "    \"Strategy\": \"docplex-bin-avgonly\"\n",
    "}\n",
    "\n",
    "baseline_results\n"
   ]
  },
  {
   "cell_type": "code",
   "execution_count": null,
   "id": "a686a79e-f650-44ca-bd15-4a810cc515b9",
   "metadata": {},
   "outputs": [],
   "source": [
    "import pandas as pd\n",
    "\n",
    "results_df = pd.DataFrame([baseline_results])\n",
    "results_df\n"
   ]
  },
  {
   "cell_type": "markdown",
   "id": "43c39380-a0ca-48de-a37b-50b51b0fe16a",
   "metadata": {},
   "source": [
    "### Tuned variant (20s limit)\n",
    "This solver ran with a 20-second time limit, offering a faster alternative to the baseline.\n"
   ]
  },
  {
   "cell_type": "markdown",
   "id": "a023256c-cb1c-4e4b-b7cf-e240293fd66c",
   "metadata": {},
   "source": [
    "## Solver Comparison Table\n",
    "\n",
    "| Run | Solver         | LP File                   | Bonds | Objective | Runtime (s) | Notes          |\n",
    "|-----|----------------|---------------------------|-------|-----------|-------------|----------------|\n",
    "| 1   | Baseline (MIP) | docplex-bin-avgonly.lp    | 21    | 40.2771   | 139.88      | python-mip CLP |\n"
   ]
  },
  {
   "cell_type": "code",
   "execution_count": 1,
   "id": "62918c8e-2387-4d31-8999-f0839b29f5d5",
   "metadata": {},
   "outputs": [
    {
     "name": "stdout",
     "output_type": "stream",
     "text": [
      "✅ File read successfully\n",
      "📄 Preview:\n",
      "\\ This file has been generated by DOcplex\n",
      "\\ ENCODING=ISO-8859-1\n",
      "\\Problem name: VCIT _ VCIT (bench)\n",
      "\n",
      "Minimize\n",
      " obj: [ 72 fund_enriched.pmv_tgt_Investment_Grade_Credit_Capital_Goods^2\n",
      "      + 72 fund_enriched.pmv_tgt_Investment_Grade_Credit_Insurance^2\n",
      "      + 72 fund_enriched.pmv_tgt_Investment_Grade_Credit_Transportation^2 ]/2\n",
      "Subject To\n",
      " trade_num_upper_limit: iTrade_020002BJ9 + iTrade_026874DS3 + iTrade_081437AT2\n",
      "                        + iTrade_097023CJ2 + iTrade_13645RAD6 + iTrade_13645RBF0\n",
      "\n"
     ]
    }
   ],
   "source": [
    "# Step 0: Imports (if needed)\n",
    "from pathlib import Path\n",
    "\n",
    "# Step 1: Define your project root\n",
    "PROJECT_ROOT = Path.cwd()\n",
    "if PROJECT_ROOT.name == \"notebooks\":\n",
    "    PROJECT_ROOT = PROJECT_ROOT.parent\n",
    "\n",
    "# Step 2: Build relative path to your LP file\n",
    "lp_rel_path = \"data/1/31bonds/docplex-bin-avgonly.lp\"\n",
    "lp_full_path = PROJECT_ROOT / lp_rel_path\n",
    "\n",
    "# Step 3: Check existence and read contents\n",
    "if lp_full_path.exists():\n",
    "    with open(lp_full_path, \"r\") as f:\n",
    "        lp_contents = f.read()\n",
    "    print(\"✅ File read successfully\")\n",
    "    print(f\"📄 Preview:\\n{lp_contents[:500]}\")  # Optional: show first 500 chars\n",
    "else:\n",
    "    print(f\"❌ File not found at: {lp_full_path}\")\n"
   ]
  },
  {
   "cell_type": "code",
   "execution_count": null,
   "id": "b91462b4-f54e-40bd-9c2e-993010c7bfbf",
   "metadata": {},
   "outputs": [],
   "source": [
    "from pathlib import Path\n",
    "\n",
    "CWD = Path.cwd()\n",
    "print(\"CWD:\", CWD)\n",
    "\n",
    "lp_rel = Path(\"data/1/31bonds/docplex-bin-avgonly.lp\")\n",
    "lp_abs_guess = (CWD / lp_rel).resolve()\n",
    "print(\"Expected LP path:\", lp_abs_guess)\n",
    "print(\"Exists?\", lp_abs_guess.exists())\n"
   ]
  },
  {
   "cell_type": "code",
   "execution_count": null,
   "id": "eb33e92c-d734-4273-875c-6a3bfd178b27",
   "metadata": {},
   "outputs": [],
   "source": [
    "from pathlib import Path\n",
    "\n",
    "root = Path.cwd()\n",
    "matches = list(root.rglob(\"docplex-bin-avgonly.lp\"))\n",
    "print(\"Matches found:\", len(matches))\n",
    "for i, p in enumerate(matches[:10], 1):\n",
    "    print(f\"{i}. {p}\")\n",
    "\n",
    "# Pick the first match if any were found\n",
    "LP_ABS = matches[0] if matches else None\n",
    "LP_ABS\n"
   ]
  },
  {
   "cell_type": "code",
   "execution_count": null,
   "id": "0c74e8f9-17f3-4ad8-86d0-1a5ebf3e424e",
   "metadata": {},
   "outputs": [],
   "source": [
    "from pathlib import Path\n",
    "\n",
    "PROJECT_ROOT = Path.cwd()\n",
    "LP_ABS = LP_ABS.resolve()\n",
    "print(\"Found LP file at:\", LP_ABS)\n",
    "\n",
    "# Try to compute a clean relative path (if it’s inside the project)\n",
    "try:\n",
    "    LP_REL = str(LP_ABS.relative_to(PROJECT_ROOT))\n",
    "except ValueError:\n",
    "    # If it’s outside the project, just use the absolute path\n",
    "    LP_REL = str(LP_ABS)\n",
    "\n",
    "print(\"LP_REL set to:\", LP_REL)\n"
   ]
  },
  {
   "cell_type": "code",
   "execution_count": null,
   "id": "5255c200-f3bf-474e-8d72-097b63b3e303",
   "metadata": {},
   "outputs": [],
   "source": [
    "from pathlib import Path\n",
    "\n",
    "path_to_open = Path(LP_REL)\n",
    "if not path_to_open.is_absolute():\n",
    "    path_to_open = (Path.cwd() / path_to_open).resolve()\n",
    "\n",
    "print(\"Opening:\", path_to_open)\n",
    "with open(path_to_open, \"r\", encoding=\"utf-8\", errors=\"ignore\") as f:\n",
    "    head = \"\".join([next(f) for _ in range(5)])\n",
    "print(\"First lines:\\n\", head)\n"
   ]
  },
  {
   "cell_type": "code",
   "execution_count": null,
   "id": "aac1aef8-853d-440c-8141-2c4055b12fd5",
   "metadata": {},
   "outputs": [],
   "source": [
    "LP_REL = str(lp_rel)\n",
    "print(\"LP_REL set to:\", LP_REL)\n"
   ]
  },
  {
   "cell_type": "code",
   "execution_count": null,
   "id": "e7b56e99-90b8-4c4b-8a1d-bb40ee99d5fb",
   "metadata": {},
   "outputs": [],
   "source": [
    "from pathlib import Path\n",
    "\n",
    "path_to_open = Path(LP_REL)\n",
    "if not path_to_open.is_absolute():\n",
    "    path_to_open = (Path.cwd() / path_to_open).resolve()\n",
    "\n",
    "print(\"Opening:\", path_to_open)\n",
    "with open(path_to_open, \"r\", encoding=\"utf-8\", errors=\"ignore\") as f:\n",
    "    head = \"\".join([next(f) for _ in range(5)])\n",
    "print(\"First lines:\\n\", head)\n"
   ]
  },
  {
   "cell_type": "code",
   "execution_count": null,
   "id": "6ac426bb-8820-4b2c-b4ae-139b0c4dd0b6",
   "metadata": {},
   "outputs": [],
   "source": [
    "# Assuming solve_mip_tuned is already defined and imported in your notebook\n",
    "x2, fx2, dt2 = solve_mip_tuned(LP_REL, max_seconds=20, mip_gap=0.0)\n",
    "\n",
    "print(\"🔢 Bonds selected:\", int(np.sum(x2)))\n",
    "print(\"📈 Objective value:\", round(fx2, 4))\n",
    "print(\"⏱ Runtime (seconds):\", round(dt2, 2))\n"
   ]
  },
  {
   "cell_type": "code",
   "execution_count": null,
   "id": "49ffd2f6-581e-4952-a919-5168c1ae4040",
   "metadata": {},
   "outputs": [],
   "source": [
    "import os\n",
    "print(os.getcwd())\n"
   ]
  },
  {
   "cell_type": "code",
   "execution_count": null,
   "id": "cf591b02-6625-472d-ba11-33d9ea0a9d2d",
   "metadata": {},
   "outputs": [],
   "source": [
    "with open(\"../data/1/31bonds/docplex-bin-avgonly.lp\", \"r\") as f:\n",
    "    lp_contents = f.read()\n"
   ]
  },
  {
   "cell_type": "code",
   "execution_count": null,
   "id": "f73e7216-93cd-4a73-b085-4b19c69c8103",
   "metadata": {},
   "outputs": [],
   "source": []
  }
 ],
 "metadata": {
  "kernelspec": {
   "display_name": "Python (.venv310)",
   "language": "python",
   "name": ".venv310"
  },
  "language_info": {
   "codemirror_mode": {
    "name": "ipython",
    "version": 3
   },
   "file_extension": ".py",
   "mimetype": "text/x-python",
   "name": "python",
   "nbconvert_exporter": "python",
   "pygments_lexer": "ipython3",
   "version": "3.10.7"
  }
 },
 "nbformat": 4,
 "nbformat_minor": 5
}
